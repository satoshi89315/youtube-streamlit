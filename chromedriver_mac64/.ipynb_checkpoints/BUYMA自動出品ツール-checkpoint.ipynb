{
 "cells": [
  {
   "cell_type": "code",
   "execution_count": 206,
   "id": "a13ab576-a1a5-4128-9974-b6dc11d1b456",
   "metadata": {},
   "outputs": [],
   "source": [
    "from selenium import webdriver\n",
    "from selenium.webdriver.chrome import service\n",
    "from selenium.webdriver.common.by import By\n",
    "from selenium.webdriver.common.keys import Keys\n",
    "from PIL import Image\n",
    "from time import sleep\n",
    "import os\n",
    "from selenium.webdriver.support import expected_conditions as EC\n",
    "from selenium.webdriver.support.ui import WebDriverWait\n",
    "import gspread\n",
    "from oauth2client.service_account import ServiceAccountCredentials\n",
    "from selenium.webdriver.support.ui import Select\n",
    "from selenium.webdriver.common.action_chains import ActionChains\n",
    "from selenium.webdriver.support.select import Select\n"
   ]
  },
  {
   "cell_type": "code",
   "execution_count": null,
   "id": "a6f784d1-0534-4815-bbbe-e0d0757ab2e2",
   "metadata": {},
   "outputs": [],
   "source": [
    "browser = webdriver.Chrome()\n",
    "url = (\"https://www.buyma.com/loginredirect/\")\n",
    "browser.get(url)"
   ]
  },
  {
   "cell_type": "code",
   "execution_count": null,
   "id": "7bc0aa79-d91c-4366-942e-2603e0636023",
   "metadata": {},
   "outputs": [],
   "source": [
    "#アカウントログイン\n",
    "elem_username = browser.find_element(By.ID, \"txtLoginId\")\n",
    "elem_username.send_keys(\"nanana114456@gmail.com\")\n",
    "elem_pass = browser.find_element(By.ID, \"txtLoginPass\")\n",
    "elem_pass.send_keys(\"nananax1122\")\n",
    "\n",
    "sleep(1)\n",
    "elem_login_btn = browser.find_element(By.ID, \"login_do\")\n",
    "elem_login_btn.click()"
   ]
  },
  {
   "cell_type": "code",
   "execution_count": null,
   "id": "97da7dec-ffb3-422f-af99-706967dca3d5",
   "metadata": {},
   "outputs": [],
   "source": [
    "#出品登録ページに遷移\n",
    "my_page = browser.find_element(By.CLASS_NAME, \"user_name\")\n",
    "my_page.click()\n",
    "sleep(5)\n",
    "new_item_page=(\"https://www.buyma.com/my/sell/new?tab=b\")\n",
    "browser.get(new_item_page)"
   ]
  },
  {
   "cell_type": "code",
   "execution_count": null,
   "id": "44a335ba-d52e-4860-ac37-d1dcc3737f97",
   "metadata": {},
   "outputs": [],
   "source": [
    "wait = WebDriverWait(browser, 10)\n",
    "#スプレッドシートの読み込み\n",
    "scope = ['https://spreadsheets.google.com/feeds',\n",
    "         'https://www.googleapis.com/auth/drive']\n",
    "creds = ServiceAccountCredentials.from_json_keyfile_name('/Users/nakaosatoshi/Desktop/python/credentials.json', scope)\n",
    "client = gspread.authorize(creds)\n",
    "sheet = client.open_by_key('164llLtJGZzcGlOrw7CfYEPBspBeOOtB5HRUAooC1UQg')\n",
    "\n",
    "\n",
    "#商品タイトル\n",
    "title_input = wait.until(EC.presence_of_element_located((By.CLASS_NAME, 'bmm-c-text-field')))\n",
    "title_input.send_keys(sheet.worksheet('シート').cell(8, 4).value)\n",
    "\n",
    "\n",
    "title_input = wait.until(EC.presence_of_element_located((By.CLASS_NAME, 'bmm-c-textarea')))\n",
    "title_input.send_keys(sheet.worksheet('シート').cell(8, 4).value)\n",
    "\n",
    "sleep(4)\n",
    "\n",
    "#カテゴリーセレクト\n",
    "#(第一階層)\n",
    "categoly_select = wait.until(EC.presence_of_element_located((By.CLASS_NAME, 'Select-control')))\n",
    "categoly_select.click()\n",
    "found = False\n",
    "while not found:\n",
    "    options = browser.find_elements(By.CSS_SELECTOR, \".Select-option\")\n",
    "    for option in options:\n",
    "        if option.get_attribute(\"aria-label\") == value:\n",
    "            option.click()\n",
    "            found = True\n",
    "            break\n",
    "    else:\n",
    "        continue\n",
    "    break\n",
    "\n",
    "#(第二階層)\n",
    "categoly_select = wait.until(EC.presence_of_element_located((By.CLASS_NAME, 'Select-placeholder')))\n",
    "categoly_select.click()\n",
    "found = False\n",
    "while not found:\n",
    "    options = browser.find_elements(By.CSS_SELECTOR, \".Select-option\")\n",
    "    for option in options:\n",
    "        if option.get_attribute(\"aria-label\") == (sheet.worksheet('シート').cell(9, 4).value):\n",
    "            option.click()\n",
    "            found = True\n",
    "            break\n",
    "    else:\n",
    "        continue\n",
    "    break    \n"
   ]
  },
  {
   "cell_type": "code",
   "execution_count": null,
   "id": "7cd4007c-f893-4cdf-a600-fd47367f279f",
   "metadata": {},
   "outputs": [],
   "source": [
    "def wait_for_element(driver, by, value, timeout=10):\n",
    "    return WebDriverWait(driver, timeout).until(EC.presence_of_element_located((by, value)))\n",
    "\n",
    "file_input = wait_for_element(browser, By.CSS_SELECTOR, \"input[type='file']\")\n",
    "file_input.send_keys(f\"/Users/nakaosatoshi/Desktop/画像/商品画像ファイル/abc.jpg\")"
   ]
  },
  {
   "cell_type": "code",
   "execution_count": null,
   "id": "5c2821cc-14c6-435b-9d9b-61d23864e6ec",
   "metadata": {},
   "outputs": [],
   "source": [
    "#画像をアップロード\n",
    "file_input = browser.find_element('css selector', '.bmm-c-img-upload__dropzone input[type=\"file\"]')\n",
    "file_input.send_keys(\"/Users/nakaosatoshi/Desktop/画像/商品画像ファイル\")"
   ]
  },
  {
   "cell_type": "code",
   "execution_count": null,
   "id": "35c82c99-aa64-4eb6-a591-5d1d78dcf53d",
   "metadata": {},
   "outputs": [],
   "source": [
    "#(第一階層)\n",
    "categoly_select = wait.until(EC.presence_of_element_located((By.CLASS_NAME, 'Select-control')))\n",
    "categoly_select.click()\n",
    "found = False\n",
    "while not found:\n",
    "    options = browser.find_elements(By.CSS_SELECTOR, \".Select-option\")\n",
    "    for option in options:\n",
    "        if option.get_attribute(\"aria-label\") == value:\n",
    "            option.click()\n",
    "            found = True\n",
    "            break\n",
    "    else:\n",
    "        continue\n",
    "    break\n"
   ]
  },
  {
   "cell_type": "code",
   "execution_count": null,
   "id": "f54a8713-3dbe-4190-9fb0-ea9b5e2fdbb5",
   "metadata": {},
   "outputs": [],
   "source": []
  },
  {
   "cell_type": "code",
   "execution_count": null,
   "id": "bb6dfdf4-a517-43c7-a92e-a9f68d2f98a4",
   "metadata": {},
   "outputs": [],
   "source": []
  },
  {
   "cell_type": "code",
   "execution_count": null,
   "id": "c9858baa-e2ae-4d34-9743-0f0b7251062c",
   "metadata": {},
   "outputs": [],
   "source": []
  }
 ],
 "metadata": {
  "kernelspec": {
   "display_name": "Python 3 (ipykernel)",
   "language": "python",
   "name": "python3"
  },
  "language_info": {
   "codemirror_mode": {
    "name": "ipython",
    "version": 3
   },
   "file_extension": ".py",
   "mimetype": "text/x-python",
   "name": "python",
   "nbconvert_exporter": "python",
   "pygments_lexer": "ipython3",
   "version": "3.9.12"
  }
 },
 "nbformat": 4,
 "nbformat_minor": 5
}
