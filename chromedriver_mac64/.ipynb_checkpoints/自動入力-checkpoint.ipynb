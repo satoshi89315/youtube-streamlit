{
 "cells": [
  {
   "cell_type": "code",
   "execution_count": null,
   "id": "ff1735ca-89d7-407f-8077-3c98f25a8042",
   "metadata": {},
   "outputs": [],
   "source": [
    "from selenium import webdriver"
   ]
  },
  {
   "cell_type": "code",
   "execution_count": null,
   "id": "8a278e51-4618-4579-ba42-9e2adafc4b76",
   "metadata": {},
   "outputs": [],
   "source": [
    "!pip install lxml"
   ]
  },
  {
   "cell_type": "code",
   "execution_count": null,
   "id": "36f4de6e-c48a-408e-a61f-fef57951bfdb",
   "metadata": {},
   "outputs": [],
   "source": [
    "from selenium.webdriver.common.by import By"
   ]
  },
  {
   "cell_type": "code",
   "execution_count": null,
   "id": "6b2a3ec7-178b-4e28-ae56-adb1d84d46e1",
   "metadata": {},
   "outputs": [],
   "source": [
    "from time import sleep"
   ]
  },
  {
   "cell_type": "code",
   "execution_count": null,
   "id": "e739c0e0-f001-4107-9fc8-8d3b665bacb7",
   "metadata": {},
   "outputs": [],
   "source": [
    "browser = webdriver.Chrome()"
   ]
  },
  {
   "cell_type": "code",
   "execution_count": null,
   "id": "88292f90-85ac-496d-996a-2f01ef156c06",
   "metadata": {},
   "outputs": [],
   "source": [
    "url = \"https://scraping-for-beginner.herokuapp.com/login_page\"\n",
    "browser.get(url)"
   ]
  },
  {
   "cell_type": "code",
   "execution_count": null,
   "id": "09c646a4-d485-4c23-8d59-6679e96a433c",
   "metadata": {},
   "outputs": [],
   "source": [
    "elem_username = browser.find_element(By.ID, \"username\")"
   ]
  },
  {
   "cell_type": "code",
   "execution_count": null,
   "id": "666a5182-d409-446f-b8bf-515af853b158",
   "metadata": {},
   "outputs": [],
   "source": [
    "elem_username.send_keys(\"imanishi\")"
   ]
  },
  {
   "cell_type": "code",
   "execution_count": null,
   "id": "85d47eb8-a37d-45e8-b43a-d4aea1d82817",
   "metadata": {},
   "outputs": [],
   "source": [
    "elem_password = browser.find_element(By.ID, \"password\")"
   ]
  },
  {
   "cell_type": "code",
   "execution_count": null,
   "id": "10bc52d1-91a9-4f53-b35a-d2b5a7e28c97",
   "metadata": {},
   "outputs": [],
   "source": [
    "elem_password.send_keys(\"kouhei\")"
   ]
  },
  {
   "cell_type": "code",
   "execution_count": null,
   "id": "5844d0fa-5bf1-4660-b2b8-70d19df11a1c",
   "metadata": {},
   "outputs": [],
   "source": [
    "elem_login_btn = browser.find_element(By.ID, \"login-btn\")"
   ]
  },
  {
   "cell_type": "code",
   "execution_count": null,
   "id": "9c889647-2967-4a96-b4d0-3a1fa016c5ac",
   "metadata": {},
   "outputs": [],
   "source": [
    "elem_login_btn.click()"
   ]
  },
  {
   "cell_type": "code",
   "execution_count": null,
   "id": "7432bbdc-2a1a-4ba2-aaad-b7e64ed78b70",
   "metadata": {},
   "outputs": [],
   "source": [
    "browser = webdriver.Chrome()\n",
    "url = \"https://scraping-for-beginner.herokuapp.com/login_page\"\n",
    "browser.get(url)\n",
    "sleep(4)\n",
    "\n",
    "elem_username = browser.find_element(By.ID, \"username\")\n",
    "elem_username.send_keys(\"imanishi\")\n",
    "\n",
    "elem_password = browser.find_element(By.ID, \"password\")\n",
    "elem_password.send_keys(\"kouhei\")\n",
    "\n",
    "sleep(1)\n",
    "elem_login_btn = browser.find_element(By.ID, \"login-btn\")\n",
    "elem_login_btn.click()"
   ]
  },
  {
   "cell_type": "code",
   "execution_count": null,
   "id": "4bb6d76b-de25-493d-a166-6a3a6dc19a0b",
   "metadata": {},
   "outputs": [],
   "source": [
    "from pydrive2.auth import GoogleAuth\n",
    "from pydrive2.drive import GoogleDrive\n",
    "\n",
    "gauth = GoogleAuth()\n",
    "gauth.LocalWebserverAuth()\n",
    "\n",
    "drive = GoogleDrive(gauth)\n"
   ]
  },
  {
   "cell_type": "code",
   "execution_count": null,
   "id": "1c0bee52-3367-4de2-a557-05a905fa30dd",
   "metadata": {},
   "outputs": [],
   "source": [
    "import gspread\n",
    "from oauth2client.service_account import ServiceAccountCredentials\n",
    "from selenium import webdriver\n",
    "from selenium.webdriver.common.by import By\n",
    "from selenium.webdriver.support.ui import WebDriverWait\n",
    "from selenium.webdriver.support import expected_conditions as EC\n",
    "\n",
    "scope = ['https://spreadsheets.google.com/feeds',\n",
    "         'https://www.googleapis.com/auth/drive']\n",
    "creds = ServiceAccountCredentials.from_json_keyfile_name('/Users/nakaosatoshi/Desktop/python/credentials.json', scope)\n",
    "client = gspread.authorize(creds)\n",
    "sheet = client.open('Spreadsheet Name').worksheet('Sheet Name')\n"
   ]
  }
 ],
 "metadata": {
  "kernelspec": {
   "display_name": "Python 3 (ipykernel)",
   "language": "python",
   "name": "python3"
  },
  "language_info": {
   "codemirror_mode": {
    "name": "ipython",
    "version": 3
   },
   "file_extension": ".py",
   "mimetype": "text/x-python",
   "name": "python",
   "nbconvert_exporter": "python",
   "pygments_lexer": "ipython3",
   "version": "3.9.12"
  }
 },
 "nbformat": 4,
 "nbformat_minor": 5
}
