{
 "cells": [
  {
   "cell_type": "code",
   "execution_count": 23,
   "id": "3b227634-1937-4056-a2e7-3cfac583d4fa",
   "metadata": {},
   "outputs": [
    {
     "name": "stdout",
     "output_type": "stream",
     "text": [
      "none\n"
     ]
    }
   ],
   "source": [
    "import requests\n",
    "from bs4 import BeautifulSoup\n",
    "\n",
    "url = 'https://myv-experience.valentino.com/0040000573/OUTLET%20LECCIO/VAL/XB3VE1S56VCS13'\n",
    "res = requests.get(url)\n",
    "soup = BeautifulSoup(res.content, 'html.parser')\n",
    "\n",
    "size_div = soup.find('div', class_='sc-fnxdBY iBigeB')\n",
    "\n",
    "if size_div:\n",
    "    # 在庫があるサイズのテキストをリストに格納する\n",
    "    stock_sizes = []\n",
    "    for s in size_div.find_all('p'):\n",
    "        style = s.get('style')\n",
    "        # style属性が存在し、colorプロパティが白以外の場合は在庫あり\n",
    "        if style and 'color:rgb(187, 187, 187)' not in style:\n",
    "            stock_sizes.append(s.text)\n",
    "    print(stock_sizes)\n",
    "else:\n",
    "    print(\"none\")"
   ]
  },
  {
   "cell_type": "code",
   "execution_count": 22,
   "id": "b3de5b18-7603-4426-ac4c-fdead5bed0ad",
   "metadata": {},
   "outputs": [
    {
     "ename": "AttributeError",
     "evalue": "'WebDriver' object has no attribute 'find_element_by_class_name'",
     "output_type": "error",
     "traceback": [
      "\u001b[0;31m---------------------------------------------------------------------------\u001b[0m",
      "\u001b[0;31mAttributeError\u001b[0m                            Traceback (most recent call last)",
      "Input \u001b[0;32mIn [22]\u001b[0m, in \u001b[0;36m<cell line: 7>\u001b[0;34m()\u001b[0m\n\u001b[1;32m      4\u001b[0m driver\u001b[38;5;241m.\u001b[39mget(url)\n\u001b[1;32m      6\u001b[0m \u001b[38;5;66;03m# 在庫情報を含む要素を取得する\u001b[39;00m\n\u001b[0;32m----> 7\u001b[0m stock_div \u001b[38;5;241m=\u001b[39m \u001b[43mdriver\u001b[49m\u001b[38;5;241;43m.\u001b[39;49m\u001b[43mfind_element_by_class_name\u001b[49m(\u001b[38;5;124m'\u001b[39m\u001b[38;5;124msc-fnxdBY iBigeB\u001b[39m\u001b[38;5;124m'\u001b[39m)\n\u001b[1;32m      9\u001b[0m \u001b[38;5;66;03m# 在庫情報のテキストを取得する\u001b[39;00m\n\u001b[1;32m     10\u001b[0m stock_text \u001b[38;5;241m=\u001b[39m stock_div\u001b[38;5;241m.\u001b[39mtext\u001b[38;5;241m.\u001b[39mstrip()\n",
      "\u001b[0;31mAttributeError\u001b[0m: 'WebDriver' object has no attribute 'find_element_by_class_name'"
     ]
    }
   ],
   "source": [
    "# ドライバーを起動してURLにアクセスする\n",
    "driver = webdriver.Chrome()\n",
    "url = 'https://myv-experience.valentino.com/0040000573/OUTLET%20LECCIO/VAL/XB3VE1S56VCS13'\n",
    "driver.get(url)\n",
    "\n",
    "# 在庫情報を含む要素を取得する\n",
    "stock_div = driver.find_element_by_class_name('sc-fnxdBY iBigeB')\n",
    "\n",
    "# 在庫情報のテキストを取得する\n",
    "stock_text = stock_div.text.strip()\n",
    "\n",
    "# 在庫がある場合は、サイズのリストを取得する\n",
    "if stock_text != 'No stock information':\n",
    "    stock_sizes = [size.text for size in stock_div.find_elements_by_css_selector('p:not([style*=\"line-through\"])')]\n",
    "    print('Available sizes:', stock_sizes)\n",
    "else:\n",
    "    print('No stock information found.')\n"
   ]
  },
  {
   "cell_type": "code",
   "execution_count": 25,
   "id": "e4245758-faed-4d8b-90d4-1652fd78fa56",
   "metadata": {},
   "outputs": [
    {
     "ename": "AttributeError",
     "evalue": "'WebDriver' object has no attribute 'find_element_by_css_selector'",
     "output_type": "error",
     "traceback": [
      "\u001b[0;31m---------------------------------------------------------------------------\u001b[0m",
      "\u001b[0;31mAttributeError\u001b[0m                            Traceback (most recent call last)",
      "Input \u001b[0;32mIn [25]\u001b[0m, in \u001b[0;36m<cell line: 9>\u001b[0;34m()\u001b[0m\n\u001b[1;32m      6\u001b[0m driver\u001b[38;5;241m.\u001b[39mget(url)\n\u001b[1;32m      8\u001b[0m \u001b[38;5;66;03m# 在庫情報を含む要素を取得する\u001b[39;00m\n\u001b[0;32m----> 9\u001b[0m stock_div \u001b[38;5;241m=\u001b[39m \u001b[43mdriver\u001b[49m\u001b[38;5;241;43m.\u001b[39;49m\u001b[43mfind_element_by_css_selector\u001b[49m(\u001b[38;5;124m'\u001b[39m\u001b[38;5;124mdiv.sc-fnxdBY[style*=\u001b[39m\u001b[38;5;124m\"\u001b[39m\u001b[38;5;124mcolor: rgb(33, 33, 33)\u001b[39m\u001b[38;5;124m\"\u001b[39m\u001b[38;5;124m]\u001b[39m\u001b[38;5;124m'\u001b[39m)\n\u001b[1;32m     11\u001b[0m \u001b[38;5;66;03m# 在庫情報のテキストを取得する\u001b[39;00m\n\u001b[1;32m     12\u001b[0m stock_text \u001b[38;5;241m=\u001b[39m stock_div\u001b[38;5;241m.\u001b[39mtext\u001b[38;5;241m.\u001b[39mstrip()\n",
      "\u001b[0;31mAttributeError\u001b[0m: 'WebDriver' object has no attribute 'find_element_by_css_selector'"
     ]
    }
   ],
   "source": [
    "from selenium import webdriver\n",
    "\n",
    "# ドライバーを起動してURLにアクセスする\n",
    "driver = webdriver.Chrome()\n",
    "url = 'https://myv-experience.valentino.com/0040000573/OUTLET%20LECCIO/VAL/XB3VE1S56VCS13'\n",
    "driver.get(url)\n",
    "\n",
    "# 在庫情報を含む要素を取得する\n",
    "stock_div = driver.find_element_by_css_selector('div.sc-fnxdBY[style*=\"color: rgb(33, 33, 33)\"]')\n",
    "\n",
    "# 在庫情報のテキストを取得する\n",
    "stock_text = stock_div.text.strip()\n",
    "\n",
    "# サイズ情報をリストに変換する\n",
    "sizes = stock_text.split('\\n')\n",
    "\n",
    "# 在庫があるサイズのみを取り出す\n",
    "in_stock_sizes = [size for size in sizes if 'OUT OF STOCK' not in size]\n",
    "\n",
    "# 結果を出力する\n",
    "print(in_stock_sizes)"
   ]
  },
  {
   "cell_type": "code",
   "execution_count": null,
   "id": "7520297e-0d02-48fe-9454-1b34aba5dcac",
   "metadata": {},
   "outputs": [],
   "source": []
  }
 ],
 "metadata": {
  "kernelspec": {
   "display_name": "Python 3 (ipykernel)",
   "language": "python",
   "name": "python3"
  },
  "language_info": {
   "codemirror_mode": {
    "name": "ipython",
    "version": 3
   },
   "file_extension": ".py",
   "mimetype": "text/x-python",
   "name": "python",
   "nbconvert_exporter": "python",
   "pygments_lexer": "ipython3",
   "version": "3.9.12"
  }
 },
 "nbformat": 4,
 "nbformat_minor": 5
}
